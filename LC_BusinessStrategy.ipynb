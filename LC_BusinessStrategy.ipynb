{
 "cells": [
  {
   "cell_type": "code",
   "execution_count": null,
   "metadata": {},
   "outputs": [],
   "source": [
    "import pandas as pd\n",
    "import numpy as np\n",
    "from datetime import timedelta\n",
    "import os\n",
    "from matplotlib import pyplot\n",
    "import matplotlib.pyplot as plt\n",
    "import seaborn as sns\n",
    "\n",
    "# Load Data\n",
    "loan_file_path = '/Users/mengwu/Documents/lending-club-loan-data/loan.csv'\n",
    "dictionary_file_path = '/Users/mengwu/Documents/lending-club-loan-data/LCDataDictionary.xlsx'\n",
    "cols = ['loan_amnt', 'funded_amnt', 'term', 'int_rate', 'grade', 'annual_inc', 'issue_d', 'dti', \n",
    "        'revol_bal', 'total_pymnt', 'loan_status', 'purpose']\n",
    "chunk_size = 10 ** 5\n",
    "chunk = pd.read_csv(loan_file_path, usecols=cols, chunksize=chunk_size, iterator=True, low_memory=False)\n",
    "df_loan = pd.concat(chunk, ignore_index=True)\n",
    "df = df_loan.copy(deep=True)"
   ]
  },
  {
   "cell_type": "code",
   "execution_count": null,
   "metadata": {},
   "outputs": [],
   "source": [
    "df.head()"
   ]
  },
  {
   "cell_type": "code",
   "execution_count": null,
   "metadata": {},
   "outputs": [],
   "source": [
    "plt.subplots(figsize=(20,10))\n",
    "plt.title(\"The distribution of interest rate by grade\").set_size(20)\n",
    "sns.boxplot(x=\"grade\", y=\"int_rate\", data=df)"
   ]
  },
  {
   "cell_type": "code",
   "execution_count": null,
   "metadata": {},
   "outputs": [],
   "source": []
  }
 ],
 "metadata": {
  "kernelspec": {
   "display_name": "Python 3",
   "language": "python",
   "name": "python3"
  },
  "language_info": {
   "codemirror_mode": {
    "name": "ipython",
    "version": 3
   },
   "file_extension": ".py",
   "mimetype": "text/x-python",
   "name": "python",
   "nbconvert_exporter": "python",
   "pygments_lexer": "ipython3",
   "version": "3.8.1"
  }
 },
 "nbformat": 4,
 "nbformat_minor": 4
}
